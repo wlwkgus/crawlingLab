{
 "cells": [
  {
   "cell_type": "code",
   "execution_count": 1,
   "metadata": {
    "collapsed": false
   },
   "outputs": [],
   "source": [
    "import base64\n",
    "import re\n",
    "import os\n",
    "\n",
    "from googleapiclient import discovery\n",
    "from googleapiclient import errors\n",
    "from oauth2client.client import GoogleCredentials\n",
    "\n",
    "DISCOVERY_URL = 'https://{api}.googleapis.com/$discovery/rest?version={apiVersion}'\n",
    "\n",
    "# Credential setting\n",
    "# In console, GOOGLE_APPLICATION_CREDENTIALS=~/barcode-ocr-2f567a109442.json\n",
    "credentials = GoogleCredentials.get_application_default()\n",
    "service = discovery.build(\n",
    "    'vision', 'v1',\n",
    "    credentials=credentials,\n",
    "    discoveryServiceUrl=DISCOVERY_URL,\n",
    ")"
   ]
  },
  {
   "cell_type": "code",
   "execution_count": 22,
   "metadata": {
    "collapsed": false
   },
   "outputs": [],
   "source": [
    "# Opening Images\n",
    "images = dict()\n",
    "for i in range(1,6):\n",
    "    temp_image_file = open('n' + str(i) + '.png', 'rb')\n",
    "    images[str(i)] = temp_image_file.read()\n"
   ]
  },
  {
   "cell_type": "code",
   "execution_count": 29,
   "metadata": {
    "collapsed": false
   },
   "outputs": [],
   "source": [
    "# Detecting Text by calling batch VISION API\n",
    "batch_request = list()\n",
    "\n",
    "# Make Batch Request\n",
    "for name, image in images.items():\n",
    "    batch_request.append({\n",
    "        'image': {\n",
    "            'content': base64.b64encode(image).decode('utf-8')\n",
    "        },\n",
    "        'features': [{\n",
    "            'type': 'TEXT_DETECTION',\n",
    "            'maxResults': 6,\n",
    "        }]\n",
    "    })\n",
    "#     print(base64.b64encode(image))\n",
    "#     print(type(base64.b64encode(image)))\n",
    "request = service.images().annotate(\n",
    "    body={'requests': batch_request}\n",
    ")\n",
    "\n"
   ]
  },
  {
   "cell_type": "code",
   "execution_count": 30,
   "metadata": {
    "collapsed": false
   },
   "outputs": [],
   "source": [
    "# Let's make request\n",
    "responses = request.execute(num_retries=3)\n"
   ]
  },
  {
   "cell_type": "code",
   "execution_count": 31,
   "metadata": {
    "collapsed": false
   },
   "outputs": [
    {
     "data": {
      "text/plain": [
       "{'responses': [{'textAnnotations': [{'boundingPoly': {'vertices': [{'x': 13,\n",
       "        'y': 2},\n",
       "       {'x': 48, 'y': 2},\n",
       "       {'x': 48, 'y': 25},\n",
       "       {'x': 13, 'y': 25}]},\n",
       "     'description': 'O O\\n',\n",
       "     'locale': 'en'},\n",
       "    {'boundingPoly': {'vertices': [{'x': 13, 'y': 13},\n",
       "       {'x': 25, 'y': 8},\n",
       "       {'x': 31, 'y': 23},\n",
       "       {'x': 19, 'y': 28}]},\n",
       "     'description': 'O'},\n",
       "    {'boundingPoly': {'vertices': [{'x': 32, 'y': 6},\n",
       "       {'x': 42, 'y': 2},\n",
       "       {'x': 48, 'y': 17},\n",
       "       {'x': 38, 'y': 21}]},\n",
       "     'description': 'O'}]},\n",
       "  {'textAnnotations': [{'boundingPoly': {'vertices': [{'x': 10, 'y': 1},\n",
       "       {'x': 48, 'y': 1},\n",
       "       {'x': 48, 'y': 25},\n",
       "       {'x': 10, 'y': 25}]},\n",
       "     'description': '4 5\\n',\n",
       "     'locale': 'en'},\n",
       "    {'boundingPoly': {'vertices': [{'x': 15, 'y': 1},\n",
       "       {'x': 24, 'y': 3},\n",
       "       {'x': 19, 'y': 21},\n",
       "       {'x': 10, 'y': 18}]},\n",
       "     'description': '4'},\n",
       "    {'boundingPoly': {'vertices': [{'x': 35, 'y': 6},\n",
       "       {'x': 48, 'y': 9},\n",
       "       {'x': 43, 'y': 27},\n",
       "       {'x': 30, 'y': 23}]},\n",
       "     'description': '5'}]},\n",
       "  {'textAnnotations': [{'boundingPoly': {'vertices': [{'x': 9, 'y': 6},\n",
       "       {'x': 48, 'y': 6},\n",
       "       {'x': 48, 'y': 23},\n",
       "       {'x': 9, 'y': 23}]},\n",
       "     'description': '6 1\\n',\n",
       "     'locale': 'en'},\n",
       "    {'boundingPoly': {'vertices': [{'x': 9, 'y': 6},\n",
       "       {'x': 20, 'y': 6},\n",
       "       {'x': 20, 'y': 22},\n",
       "       {'x': 9, 'y': 22}]},\n",
       "     'description': '6'},\n",
       "    {'boundingPoly': {'vertices': [{'x': 37, 'y': 6},\n",
       "       {'x': 48, 'y': 6},\n",
       "       {'x': 48, 'y': 23},\n",
       "       {'x': 37, 'y': 23}]},\n",
       "     'description': '1'}]},\n",
       "  {'textAnnotations': [{'boundingPoly': {'vertices': [{'x': 21, 'y': 5},\n",
       "       {'x': 43, 'y': 5},\n",
       "       {'x': 43, 'y': 20},\n",
       "       {'x': 21, 'y': 20}]},\n",
       "     'description': '16\\n',\n",
       "     'locale': 'en'},\n",
       "    {'boundingPoly': {'vertices': [{'x': 21, 'y': 5},\n",
       "       {'x': 43, 'y': 5},\n",
       "       {'x': 43, 'y': 20},\n",
       "       {'x': 21, 'y': 20}]},\n",
       "     'description': '16'}]},\n",
       "  {'textAnnotations': [{'boundingPoly': {'vertices': [{'x': 43, 'y': 13},\n",
       "       {'x': 47, 'y': 13},\n",
       "       {'x': 47, 'y': 21},\n",
       "       {'x': 43, 'y': 21}]},\n",
       "     'description': '3\\n',\n",
       "     'locale': 'en'},\n",
       "    {'boundingPoly': {'vertices': [{'x': 43, 'y': 13},\n",
       "       {'x': 47, 'y': 13},\n",
       "       {'x': 47, 'y': 21},\n",
       "       {'x': 43, 'y': 21}]},\n",
       "     'description': '3'}]}]}"
      ]
     },
     "execution_count": 31,
     "metadata": {},
     "output_type": "execute_result"
    }
   ],
   "source": [
    "responses"
   ]
  }
 ],
 "metadata": {
  "kernelspec": {
   "display_name": "Python 3",
   "language": "python",
   "name": "python3"
  },
  "language_info": {
   "codemirror_mode": {
    "name": "ipython",
    "version": 3
   },
   "file_extension": ".py",
   "mimetype": "text/x-python",
   "name": "python",
   "nbconvert_exporter": "python",
   "pygments_lexer": "ipython3",
   "version": "3.5.2"
  }
 },
 "nbformat": 4,
 "nbformat_minor": 2
}
