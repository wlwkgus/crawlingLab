{
 "cells": [
  {
   "cell_type": "code",
   "execution_count": 43,
   "metadata": {
    "collapsed": false
   },
   "outputs": [],
   "source": [
    "from selenium import webdriver\n",
    "from selenium.webdriver.common.keys import Keys\n",
    "from selenium.webdriver.common.action_chains import ActionChains\n",
    "import time\n",
    "from PIL import Image\n",
    "\n",
    "driver = webdriver.PhantomJS()\n",
    "driver.get('http://sugang.snu.ac.kr/')\n",
    "driver.switch_to_frame('main')\n",
    "# time.sleep(3)\n",
    "# print(driver.page_source)"
   ]
  },
  {
   "cell_type": "code",
   "execution_count": 44,
   "metadata": {
    "collapsed": false
   },
   "outputs": [
    {
     "name": "stdout",
     "output_type": "stream",
     "text": [
      "<selenium.webdriver.remote.webelement.WebElement (session=\"40e771a0-d346-11e6-9e5f-f1f66cba6488\", element=\":wdc:1483620943267\")>\n",
      "<selenium.webdriver.remote.webelement.WebElement (session=\"40e771a0-d346-11e6-9e5f-f1f66cba6488\", element=\":wdc:1483620943268\")>\n"
     ]
    },
    {
     "data": {
      "text/plain": [
       "'http://sugang.snu.ac.kr/sugang/co/co010.action'"
      ]
     },
     "execution_count": 44,
     "metadata": {},
     "output_type": "execute_result"
    }
   ],
   "source": [
    "# Login\n",
    "form_field = driver.find_element_by_id('CO010')\n",
    "login_field = driver.find_element_by_id('j_username')\n",
    "password_field = driver.find_element_by_name('t_password')\n",
    "print(login_field)\n",
    "print(password_field)\n",
    "# Need to type personal info\n",
    "login_field.send_keys('')\n",
    "password_field.send_keys('')\n",
    "ActionChains(driver).key_down(Keys.ENTER).key_up(Keys.ENTER).perform()\n",
    "driver.current_url"
   ]
  },
  {
   "cell_type": "code",
   "execution_count": 38,
   "metadata": {
    "collapsed": false
   },
   "outputs": [],
   "source": [
    "# Skip this\n",
    "# menu = driver.find_element_by_id('submenu01')\n",
    "# print(menu)\n",
    "# menu.find_elements_by_css_selector('li')[2].get_attribute('innerHTML')\n",
    "# menu.find_elements_by_css_selector('li')[2].get_attribute('innerHTML')"
   ]
  },
  {
   "cell_type": "code",
   "execution_count": 45,
   "metadata": {
    "collapsed": false
   },
   "outputs": [
    {
     "name": "stdout",
     "output_type": "stream",
     "text": [
      "current_url : http://sugang.snu.ac.kr/sugang/cc/cc210.action\n"
     ]
    }
   ],
   "source": [
    "# go to the main page\n",
    "driver.get('http://sugang.snu.ac.kr/sugang/cc/cc210.action')\n",
    "time.sleep(1)\n",
    "print('current_url : ' + driver.current_url)"
   ]
  },
  {
   "cell_type": "code",
   "execution_count": 46,
   "metadata": {
    "collapsed": false
   },
   "outputs": [],
   "source": [
    "# Iterates from here\n",
    "# Find Image element\n",
    "text_image_element = driver.find_element_by_id('imageText')\n",
    "input_field = driver.find_element_by_id('inputTextView')\n",
    "\n",
    "# save text image file\n",
    "location = text_image_element.location\n",
    "size = text_image_element.size\n",
    "driver.get_screenshot_as_file('screenshot.png')\n",
    "screenshot = Image.open('screenshot.png')\n",
    "left = location['x']\n",
    "top = location['y']\n",
    "# print(size)\n",
    "right = location['x'] + size['width']\n",
    "bottom = location['y'] + size['height']\n",
    "text_image = screenshot.crop((left, top, right, bottom))\n",
    "text_image.save('text_image.png')\n",
    "text_image.close()"
   ]
  },
  {
   "cell_type": "code",
   "execution_count": 47,
   "metadata": {
    "collapsed": false
   },
   "outputs": [],
   "source": [
    "# Vision API\n",
    "from lib import get_vision_api\n",
    "f = open('text_image.png', 'rb')\n",
    "responses = get_vision_api([f])"
   ]
  },
  {
   "cell_type": "code",
   "execution_count": 48,
   "metadata": {
    "collapsed": false
   },
   "outputs": [
    {
     "data": {
      "text/plain": [
       "{'responses': [{'textAnnotations': [{'boundingPoly': {'vertices': [{'x': 5,\n",
       "        'y': 7},\n",
       "       {'x': 28, 'y': 7},\n",
       "       {'x': 28, 'y': 24},\n",
       "       {'x': 5, 'y': 24}]},\n",
       "     'description': '70\\n',\n",
       "     'locale': 'en'},\n",
       "    {'boundingPoly': {'vertices': [{'x': 5, 'y': 12},\n",
       "       {'x': 25, 'y': 7},\n",
       "       {'x': 28, 'y': 18},\n",
       "       {'x': 8, 'y': 24}]},\n",
       "     'description': '70'}]}]}"
      ]
     },
     "execution_count": 48,
     "metadata": {},
     "output_type": "execute_result"
    }
   ],
   "source": [
    "responses"
   ]
  },
  {
   "cell_type": "code",
   "execution_count": 54,
   "metadata": {
    "collapsed": false
   },
   "outputs": [],
   "source": [
    "input_field.send_keys(responses['responses'][0]['textAnnotations'][1]['description'])"
   ]
  },
  {
   "cell_type": "code",
   "execution_count": 56,
   "metadata": {
    "collapsed": false
   },
   "outputs": [
    {
     "data": {
      "text/plain": [
       "True"
      ]
     },
     "execution_count": 56,
     "metadata": {},
     "output_type": "execute_result"
    }
   ],
   "source": [
    "driver.get_screenshot_as_file('a.png')"
   ]
  },
  {
   "cell_type": "code",
   "execution_count": 61,
   "metadata": {
    "collapsed": true
   },
   "outputs": [],
   "source": [
    "# ActionChains(driver).key_down(Keys.ENTER).key_up(Keys.ENTER).perform()"
   ]
  },
  {
   "cell_type": "code",
   "execution_count": 62,
   "metadata": {
    "collapsed": false
   },
   "outputs": [
    {
     "data": {
      "text/plain": [
       "True"
      ]
     },
     "execution_count": 62,
     "metadata": {},
     "output_type": "execute_result"
    }
   ],
   "source": [
    "driver.get_screenshot_as_file('a.png')"
   ]
  }
 ],
 "metadata": {
  "kernelspec": {
   "display_name": "Python 3",
   "language": "python",
   "name": "python3"
  },
  "language_info": {
   "codemirror_mode": {
    "name": "ipython",
    "version": 3
   },
   "file_extension": ".py",
   "mimetype": "text/x-python",
   "name": "python",
   "nbconvert_exporter": "python",
   "pygments_lexer": "ipython3",
   "version": "3.5.2"
  }
 },
 "nbformat": 4,
 "nbformat_minor": 2
}
